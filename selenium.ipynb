{
 "cells": [
  {
   "cell_type": "code",
   "execution_count": null,
   "metadata": {},
   "outputs": [],
   "source": [
    "json_data = {\n",
    "    'height':160.0,\n",
    "    'weight':50.0\n",
    "}\n",
    "\n",
    "def rename_dict(json_data):\n",
    "    mapping = {'height':'T001000',\n",
    "               'weight':'T002000'\n",
    "    }\n",
    "\n",
    "    new_dict = {}\n",
    "    for key, value in json_data.items():\n",
    "        new_dict[mapping[key]] = value\n",
    "    \n",
    "    return new_dict\n",
    "\n",
    "def predict(json_data_with_code):\n",
    "    \n",
    "    result = model(json_data_with_code)\n",
    "    return result"
   ]
  }
 ],
 "metadata": {
  "language_info": {
   "name": "python"
  },
  "orig_nbformat": 4
 },
 "nbformat": 4,
 "nbformat_minor": 2
}
