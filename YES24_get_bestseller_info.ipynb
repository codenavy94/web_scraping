{
 "cells": [
  {
   "cell_type": "code",
   "execution_count": 12,
   "metadata": {},
   "outputs": [
    {
     "name": "stdout",
     "output_type": "stream",
     "text": [
      "40\n"
     ]
    }
   ],
   "source": [
    "import requests\n",
    "from bs4 import BeautifulSoup\n",
    "\n",
    "# Best Seller 책 40권에 대한 url 추출\n",
    "url = 'http://www.yes24.com/24/Category/BestSeller'\n",
    "bsinfo = requests.get(url).text\n",
    "soup = BeautifulSoup(bsinfo, 'lxml')\n",
    "\n",
    "book_url_lst = []\n",
    "for i in range(1, 41):\n",
    "    search_index = 'num' + str(i) # num1, num2, ...\n",
    "    \n",
    "    try:\n",
    "        book_url = soup.find('li', attrs={'class':search_index}).find('a').get('href')\n",
    "\n",
    "    except:\n",
    "        search_index = 'num' + str(i) + '_line' # num19_line, num20_line, ...\n",
    "        book_url = soup.find('li', attrs={'class':search_index}).find('a').get('href')\n",
    "\n",
    "    book_url = 'http://www.yes24.com' + book_url\n",
    "    book_url_lst.append(book_url)\n",
    "\n",
    "print(len(book_url_lst))\n"
   ]
  },
  {
   "cell_type": "code",
   "execution_count": 63,
   "metadata": {},
   "outputs": [],
   "source": [
    "# 각 책에 대해 제목, 평점, 저자(들), 발간일, 판매가, 할인율 정보를 출력\n",
    "\n",
    "with open('YES24_bestseller_info.txt', 'w', encoding='utf-8') as f:\n",
    "    f.write('\\t'.join(['title', 'rating', 'authors', 'pubdate', 'price', 'discount']) + '\\n')\n",
    "\n",
    "    for book_url in book_url_lst:\n",
    "        book_info = requests.get(book_url).text\n",
    "        soup = BeautifulSoup(book_info, 'lxml')\n",
    "        \n",
    "        title = soup.find('meta', attrs={'name':'title'}).get('content').split('-')[0].strip()\n",
    "        try:\n",
    "            rating = soup.find('span', attrs={'id':'spanGdRating'}).find('em', attrs={'class':'yes_b'}).text\n",
    "        except:\n",
    "            rating = \"NA\" # rating 정보가 없는 도서의 경우, rating 정보를 'NA'로 저장\n",
    "        authors = soup.find('meta', attrs={'name':'author'}).get('content')\n",
    "        pubdate = soup.find('span', attrs={'class':'gd_date'}).text\n",
    "        price = soup.find('span', attrs={'class':'nor_price'}).text.replace(\"원\", \"\")\n",
    "        discount = soup.find('tr', attrs={'class':'accentRow'}).text.strip().split('%')[0].split('(')[-1]\n",
    "\n",
    "        f.write('\\t'.join([title, rating, authors, pubdate, price, discount]) + '\\n')"
   ]
  }
 ],
 "metadata": {
  "interpreter": {
   "hash": "793d4bdf4aa091947cd8281459d6e8fe833d5ec676b0ac200c31417438349ef7"
  },
  "kernelspec": {
   "display_name": "Python 3.8.11 64-bit ('condaenv': conda)",
   "name": "python3"
  },
  "language_info": {
   "codemirror_mode": {
    "name": "ipython",
    "version": 3
   },
   "file_extension": ".py",
   "mimetype": "text/x-python",
   "name": "python",
   "nbconvert_exporter": "python",
   "pygments_lexer": "ipython3",
   "version": "3.8.11"
  },
  "orig_nbformat": 4
 },
 "nbformat": 4,
 "nbformat_minor": 2
}
